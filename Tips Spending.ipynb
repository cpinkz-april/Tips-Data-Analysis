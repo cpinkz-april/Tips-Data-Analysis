{
 "cells": [
  {
   "cell_type": "markdown",
   "id": "cbc75798-05c1-4c66-9f55-1a7d1b5b5467",
   "metadata": {},
   "source": [
    "# Project: Tips Spending \n",
    "\n",
    "It's the project that I perform cleaning, visualizing, and interpreting data.\n",
    "\n",
    "<b>Goal:</b> Analyze whether people tend to tip more when their total bill is higher.\n",
    "\n",
    "<b>Dataset: Seaborn tips dataset</b>  \n",
    "<b>Tools: Pandas, NumPy, Seaborn, Matplotlib</b>\n"
   ]
  },
  {
   "cell_type": "markdown",
   "id": "a92b0286-cabc-43f0-a60d-0f2d82903b1c",
   "metadata": {},
   "source": [
    "# Setup My Notebook"
   ]
  },
  {
   "cell_type": "code",
   "execution_count": 1,
   "id": "e90d1c72-f7b9-418f-a71e-54797f9254f4",
   "metadata": {},
   "outputs": [
    {
     "data": {
      "text/html": [
       "<div>\n",
       "<style scoped>\n",
       "    .dataframe tbody tr th:only-of-type {\n",
       "        vertical-align: middle;\n",
       "    }\n",
       "\n",
       "    .dataframe tbody tr th {\n",
       "        vertical-align: top;\n",
       "    }\n",
       "\n",
       "    .dataframe thead th {\n",
       "        text-align: right;\n",
       "    }\n",
       "</style>\n",
       "<table border=\"1\" class=\"dataframe\">\n",
       "  <thead>\n",
       "    <tr style=\"text-align: right;\">\n",
       "      <th></th>\n",
       "      <th>total_bill</th>\n",
       "      <th>tip</th>\n",
       "      <th>sex</th>\n",
       "      <th>smoker</th>\n",
       "      <th>day</th>\n",
       "      <th>time</th>\n",
       "      <th>size</th>\n",
       "    </tr>\n",
       "  </thead>\n",
       "  <tbody>\n",
       "    <tr>\n",
       "      <th>0</th>\n",
       "      <td>16.99</td>\n",
       "      <td>1.01</td>\n",
       "      <td>Female</td>\n",
       "      <td>No</td>\n",
       "      <td>Sun</td>\n",
       "      <td>Dinner</td>\n",
       "      <td>2</td>\n",
       "    </tr>\n",
       "    <tr>\n",
       "      <th>1</th>\n",
       "      <td>10.34</td>\n",
       "      <td>1.66</td>\n",
       "      <td>Male</td>\n",
       "      <td>No</td>\n",
       "      <td>Sun</td>\n",
       "      <td>Dinner</td>\n",
       "      <td>3</td>\n",
       "    </tr>\n",
       "    <tr>\n",
       "      <th>2</th>\n",
       "      <td>21.01</td>\n",
       "      <td>3.50</td>\n",
       "      <td>Male</td>\n",
       "      <td>No</td>\n",
       "      <td>Sun</td>\n",
       "      <td>Dinner</td>\n",
       "      <td>3</td>\n",
       "    </tr>\n",
       "    <tr>\n",
       "      <th>3</th>\n",
       "      <td>23.68</td>\n",
       "      <td>3.31</td>\n",
       "      <td>Male</td>\n",
       "      <td>No</td>\n",
       "      <td>Sun</td>\n",
       "      <td>Dinner</td>\n",
       "      <td>2</td>\n",
       "    </tr>\n",
       "    <tr>\n",
       "      <th>4</th>\n",
       "      <td>24.59</td>\n",
       "      <td>3.61</td>\n",
       "      <td>Female</td>\n",
       "      <td>No</td>\n",
       "      <td>Sun</td>\n",
       "      <td>Dinner</td>\n",
       "      <td>4</td>\n",
       "    </tr>\n",
       "  </tbody>\n",
       "</table>\n",
       "</div>"
      ],
      "text/plain": [
       "   total_bill   tip     sex smoker  day    time  size\n",
       "0       16.99  1.01  Female     No  Sun  Dinner     2\n",
       "1       10.34  1.66    Male     No  Sun  Dinner     3\n",
       "2       21.01  3.50    Male     No  Sun  Dinner     3\n",
       "3       23.68  3.31    Male     No  Sun  Dinner     2\n",
       "4       24.59  3.61  Female     No  Sun  Dinner     4"
      ]
     },
     "execution_count": 1,
     "metadata": {},
     "output_type": "execute_result"
    }
   ],
   "source": [
    "# Project: Tips Spending\n",
    "import pandas as pd\n",
    "import numpy as np\n",
    "import seaborn as sns\n",
    "import matplotlib.pyplot as plt\n",
    "\n",
    "# Load data\n",
    "url = \"https://raw.githubusercontent.com/mwaskom/seaborn-data/master/tips.csv\"\n",
    "df = pd.read_csv(url)\n",
    "df.head()"
   ]
  },
  {
   "cell_type": "markdown",
   "id": "6046d0f3-323e-4e46-8f42-5a108d42e7b5",
   "metadata": {},
   "source": [
    "# Data Summary"
   ]
  },
  {
   "cell_type": "code",
   "execution_count": 3,
   "id": "d1e4fb55-6d30-400e-8f08-8527167968ad",
   "metadata": {},
   "outputs": [
    {
     "name": "stdout",
     "output_type": "stream",
     "text": [
      "<class 'pandas.core.frame.DataFrame'>\n",
      "RangeIndex: 244 entries, 0 to 243\n",
      "Data columns (total 7 columns):\n",
      " #   Column      Non-Null Count  Dtype  \n",
      "---  ------      --------------  -----  \n",
      " 0   total_bill  244 non-null    float64\n",
      " 1   tip         244 non-null    float64\n",
      " 2   sex         244 non-null    object \n",
      " 3   smoker      244 non-null    object \n",
      " 4   day         244 non-null    object \n",
      " 5   time        244 non-null    object \n",
      " 6   size        244 non-null    int64  \n",
      "dtypes: float64(2), int64(1), object(4)\n",
      "memory usage: 13.5+ KB\n"
     ]
    },
    {
     "data": {
      "text/plain": [
       "total_bill    0\n",
       "tip           0\n",
       "sex           0\n",
       "smoker        0\n",
       "day           0\n",
       "time          0\n",
       "size          0\n",
       "dtype: int64"
      ]
     },
     "execution_count": 3,
     "metadata": {},
     "output_type": "execute_result"
    }
   ],
   "source": [
    "import pandas as pd\n",
    "import numpy as np\n",
    "import seaborn as sns\n",
    "import matplotlib.pyplot as plt\n",
    "\n",
    "url = \"https://raw.githubusercontent.com/mwaskom/seaborn-data/master/tips.csv\"\n",
    "df = pd.read_csv(url)\n",
    "df.head()\n",
    "\n",
    "df.info()\n",
    "df.describe()\n",
    "df.isnull().sum()"
   ]
  },
  {
   "cell_type": "markdown",
   "id": "4f1a01e0-d00b-4c88-b20a-0f34fe60dad8",
   "metadata": {},
   "source": [
    "## Are there any missing values?\n",
    "No, it's empty.\n",
    "## What are the min and max of total_bill and tip?\n",
    "<b>Minimum total bill:</b> 3.07<br>\n",
    "<b>Maximum total bill:</b> 50.81\n",
    "\n",
    "<b>Minimum tip:</b> 1.0<br>\n",
    "<b>Maximum tip:</b> 10.0\n"
   ]
  },
  {
   "cell_type": "markdown",
   "id": "3fa1151c-7e12-459c-8f33-003354ed4751",
   "metadata": {},
   "source": [
    "# Visualization"
   ]
  },
  {
   "cell_type": "code",
   "execution_count": 4,
   "id": "8f7bd7fd-ee84-4759-9488-45cbc7ef3b9e",
   "metadata": {},
   "outputs": [
    {
     "data": {
      "image/png": "[encoded data removed]",
      "text/plain": [
       "<Figure size 640x480 with 1 Axes>"
      ]
     },
     "metadata": {},
     "output_type": "display_data"
    }
   ],
   "source": [
    "import pandas as pd\n",
    "import numpy as np\n",
    "import seaborn as sns\n",
    "import matplotlib.pyplot as plt\n",
    "\n",
    "# Load the data\n",
    "url = \"https://raw.githubusercontent.com/mwaskom/seaborn-data/master/tips.csv\"\n",
    "df = pd.read_csv(url)\n",
    "df.head()\n",
    "\n",
    "sns.scatterplot(data=df, x=\"total_bill\", y=\"tip\")\n",
    "plt.title(\"Tip vs Total Bill\")\n",
    "plt.show()"
   ]
  },
  {
   "cell_type": "markdown",
   "id": "652a6f05-106e-47b7-bcb0-4f0ccea39762",
   "metadata": {},
   "source": [
    "This plot suggests that most people usually tip when total bills are around \\\\$10-\\\\$20.<br>\n",
    "People usually tip at \\\\$2-\\\\$4 when bills are around \\\\$10-\\\\$20.\n",
    "\n",
    "People tip more when total bills are more. The higher total bills, the higher tips."
   ]
  },
  {
   "cell_type": "markdown",
   "id": "57a465c8-e23a-4fac-b37a-03af3eb69937",
   "metadata": {},
   "source": [
    "# Correlation\n",
    "Let’s compute the correlation to see how strong the relationship is."
   ]
  },
  {
   "cell_type": "code",
   "execution_count": 5,
   "id": "5c3cb84b-2ab7-4e23-a0cd-5eb5c0f58f3c",
   "metadata": {},
   "outputs": [
    {
     "name": "stdout",
     "output_type": "stream",
     "text": [
      "Correlation between bill and tip: 0.6757341092113645\n"
     ]
    }
   ],
   "source": [
    "import pandas as pd\n",
    "import numpy as np\n",
    "import seaborn as sns\n",
    "import matplotlib.pyplot as plt\n",
    "\n",
    "# Load the data\n",
    "url = \"https://raw.githubusercontent.com/mwaskom/seaborn-data/master/tips.csv\"\n",
    "df = pd.read_csv(url)\n",
    "df.head()\n",
    "\n",
    "correlation = df[\"total_bill\"].corr(df[\"tip\"])\n",
    "print(\"Correlation between bill and tip:\", correlation)"
   ]
  },
  {
   "cell_type": "markdown",
   "id": "b5150d69-cfce-4917-a647-2ebfcf5c702d",
   "metadata": {},
   "source": [
    "# Conclusion"
   ]
  },
  {
   "cell_type": "markdown",
   "id": "bada3c3d-bd0b-40b4-85eb-7defc8ecc803",
   "metadata": {},
   "source": [
    "### 1. What patterns did you find?\n",
    "The higher total bills that customers pay, the higher tips.\n",
    "### 2. Was your hypothesis correct?\n",
    "My hypothesis isn't correctly all. I thought that when customers pay high bills, they'd pay high tips.<br>\n",
    "However, the correlation finding is just approximately 0.68, which isn't nearly 1 that indicates strong positive correlation.<br>\n",
    "To sum up, the correlation between total bills and tips aren't nearly strong that much."
   ]
  }
 ],
 "metadata": {
  "kernelspec": {
   "display_name": "Python 3 (ipykernel)",
   "language": "python",
   "name": "python3"
  },
  "language_info": {
   "codemirror_mode": {
    "name": "ipython",
    "version": 3
   },
   "file_extension": ".py",
   "mimetype": "text/x-python",
   "name": "python",
   "nbconvert_exporter": "python",
   "pygments_lexer": "ipython3",
   "version": "3.13.0"
  }
 },
 "nbformat": 4,
 "nbformat_minor": 5
}
